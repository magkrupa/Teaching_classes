{
 "cells": [
  {
   "attachments": {},
   "cell_type": "markdown",
   "metadata": {},
   "source": [
    "# Protein Exercise 2\n",
    "## Protein Sequences - Exploring Similarity\n",
    "\n",
    "In class 1, we analyzed a protein's sequence, secondary structure, isoelectric point and atomic composition. In class 2, we will compare protein sequences and explore their similarities."
   ]
  },
  {
   "cell_type": "code",
   "execution_count": null,
   "metadata": {},
   "outputs": [],
   "source": [
    "# Install necessary libraries\n",
    "!pip install biopython\n",
    "\n",
    "# Import libraries\n",
    "from Bio import pairwise2\n",
    "from Bio.pairwise2 import format_alignment\n",
    "from Bio import SeqIO\n",
    "import requests\n",
    "\n",
    "# Function to fetch protein sequences from UniProt\n",
    "# Your code goes here:\n",
    "\n",
    "\n",
    "\n",
    "\n",
    "# Fetch protein sequences\n",
    "accession_ids = [\"P0DTD1\", \"P59594\"]  # Replace with the UniProt accession IDs you want to download\n",
    "protein_sequences = []\n",
    "for accession_id in accession_ids:\n",
    "# Your code goes here:\n",
    "\n",
    "\n",
    "\n",
    "\n",
    "\n",
    "# Align sequences\n",
    "alignments = pairwise2.align.globalxx(protein_sequences[0], protein_sequences[1])\n",
    "\n",
    "# Print alignments\n",
    "for alignment in alignments:\n",
    "    print(format_alignment(*alignment))\n"
   ]
  },
  {
   "attachments": {},
   "cell_type": "markdown",
   "metadata": {},
   "source": [
    "The above code will fetch two protein sequences and then perform a sequence alignment on them using the pairwise2 module. The align.globalxx function aligns the sequences using a global alignment, which attempts to align every residue in every sequence. It uses the simplest scoring, with 1 for matches and 0 for mismatches. It will print the alignment of the sequences and their score."
   ]
  },
  {
   "attachments": {},
   "cell_type": "markdown",
   "metadata": {},
   "source": [
    "## Protein 3D structure - Align and Superimpose"
   ]
  },
  {
   "cell_type": "code",
   "execution_count": null,
   "metadata": {},
   "outputs": [],
   "source": [
    "from Bio.PDB import PDBParser, Superimposer, Selection\n",
    "\n",
    "# Create a PDB parser\n",
    "parser = PDBParser()\n",
    "\n",
    "# Parse the structures\n",
    "structure1 = parser.get_structure(\"1AH0\", \"1AH0.pdb\")\n",
    "structure2 = parser.get_structure(\"2ZXE\", \"2ZXE.pdb\")\n",
    "\n",
    "# Select backbone atoms for superimposition\n",
    "backbone1 = [atom for residue in structure1[0].get_residues() for atom in residue if atom.get_name() in ['N', 'CA', 'C']]\n",
    "backbone2 = [atom for residue in structure2[0].get_residues() for atom in residue if atom.get_name() in ['N', 'CA', 'C']]\n",
    "\n",
    "# Truncate the longer list of backbone atoms\n",
    "if len(backbone1) != len(backbone2):\n",
    "    min_length = min(len(backbone1), len(backbone2))\n",
    "    backbone1 = backbone1[:min_length]\n",
    "    backbone2 = backbone2[:min_length]\n",
    "\n",
    "# Superimpose the structures\n",
    "super_imposer = Superimposer()\n",
    "super_imposer.set_atoms(backbone1, backbone2)\n",
    "print(\"RMS:\", super_imposer.rms)\n",
    "\n",
    "# Apply the rotation and translation to the second structure\n",
    "super_imposer.apply(structure2.get_atoms())\n",
    "\n",
    "# Calculate the radius of gyration (Rg)\n",
    "atom_coordinates = [atom.get_coord() for atom in structure2.get_atoms() if atom.get_name() == 'CA']\n",
    "centroid = sum(atom_coordinates) / len(atom_coordinates)\n",
    "rg = sum(((coord - centroid) ** 2).sum() for coord in atom_coordinates) / len(atom_coordinates)\n",
    "rg = rg ** 0.5\n",
    "print(\"Rg:\", rg)\n"
   ]
  },
  {
   "attachments": {},
   "cell_type": "markdown",
   "metadata": {},
   "source": [
    "### What is RMD and RG?"
   ]
  },
  {
   "attachments": {},
   "cell_type": "markdown",
   "metadata": {},
   "source": [
    "The above code aligns and superimposes two protein structures, and prints the root mean square deviation (RMSD) between the structures after superimposition, which is a measure of the average distance between the atoms of the superimposed structures.\n",
    "\n",
    "The first part of the code fetches two Protein Data Bank (PDB) files, which contain information about the 3D structures of proteins. It then uses the PDBParser to parse the PDB files and get the protein structures.\n",
    "\n",
    "The second part of the code selects the backbone atoms of the proteins for superimposition. This is usually the most meaningful comparison between protein structures, as side chains can often adopt different conformations.\n",
    "\n",
    "The final part of the code aligns the structures and then applies the optimal rotation and translation to the second structure to superimpose it on the first structure. The RMSD between the two structures is then calculated and printed."
   ]
  },
  {
   "attachments": {},
   "cell_type": "markdown",
   "metadata": {},
   "source": [
    "Comments\n",
    "\n",
    "    Pairwise sequence alignment is a fundamental tool in bioinformatics. Exploring similarities between sequences can give us insight into how related they might be, and help in predicting the function of unknown sequences based on their similarity to known ones.\n",
    "    The RMSD from the superimposition is a good way of quantifying how similar two structures are, but it is not the only measure. The more complex the structures, the more caution should be used in interpreting the results.\n",
    "    The code above focuses on comparing proteins but the same techniques can be used for other biological macromolecules like DNA and RNA.\n",
    "    Encourage your students to explore different pairs of proteins and observe their similarities and differences. They might want to explore proteins from different species, or different proteins from the same organism. What can they infer about the relationship between these proteins based on their sequence and structural similarity?\n",
    "    They could also try different methods of alignment - local alignment, which only aligns parts of the sequences that are most similar, or different scoring functions that give different weights to matches, mismatches, gaps and extensions."
   ]
  },
  {
   "attachments": {},
   "cell_type": "markdown",
   "metadata": {},
   "source": [
    "You code:    \n",
    "    - It imports the necessary libraries, nglview and PDBIO from Bio.PDB. \\\n",
    "    - It creates instances of the PDBIO class to save the original and superimposed structures to new PDB files. \\\n",
    "    - It uses the PDBIO instance to save the original structure (structure1) to a PDB file named \"1AH0_aligned.pdb\". \\\n",
    "    - It uses the PDBIO instance to save the superimposed structure (structure2) to a PDB file named \"2ZXE_aligned.pdb\". \\\n",
    "    - It uses nglview to create two views, view1 and view2, to visualize the original and superimposed structures, respectively. \\\n",
    "    - It prints the label \"Structure 1:\" and displays view1, which shows the original structure. \\\n",
    "    - It prints the label \"Structure 2:\" and displays view2, which shows the superimposed structure.\n",
    "\n",
    "In summary, this code saves the original and superimposed structures to separate PDB files and then displays the two structures using nglview in a Jupyter Notebook."
   ]
  },
  {
   "cell_type": "code",
   "execution_count": 2,
   "metadata": {},
   "outputs": [],
   "source": [
    "# Your code goes here:\n",
    "\n",
    "\n",
    "\n"
   ]
  },
  {
   "cell_type": "code",
   "execution_count": null,
   "metadata": {},
   "outputs": [],
   "source": [
    "view = nv.show_structure_file(\"1AH0_aligned.pdb\")\n",
    "view.add_structure(nv.FileStructure(\"2ZXE_aligned.pdb\"))\n",
    "view"
   ]
  },
  {
   "cell_type": "code",
   "execution_count": null,
   "metadata": {},
   "outputs": [],
   "source": [
    "import nglview as nv\n",
    "from Bio.PDB import PDBIO\n",
    "\n",
    "# Save the original and superimposed structure to a new PDB file\n",
    "io = PDBIO()\n",
    "io.set_structure(structure1)\n",
    "io.save(\"1AH0_aligned.pdb\")\n",
    "\n",
    "io.set_structure(structure2)\n",
    "io.save(\"2ZXE_aligned.pdb\")\n",
    "\n",
    "# Display the original and superimposed structures\n",
    "view = nv.show_structure_file(\"1AH0_aligned.pdb\")\n",
    "view.add_representation('cartoon', selection='protein', color='sstruc')  # Color by secondary structure\n",
    "view.add_representation('surface', selection='protein', opacity=0.3)  # Add semi-transparent surface\n",
    "\n",
    "# Add the second structure to the same view\n",
    "structure2_view = nv.FileStructure(\"2ZXE_aligned.pdb\")\n",
    "view.add_structure(structure2_view)\n",
    "view.add_representation('cartoon', selection='protein', color='sstruc', component=1)  # Color by secondary structure\n",
    "view.add_representation('surface', selection='protein', opacity=0.3, component=1)  # Add semi-transparent surface\n",
    "\n",
    "# Display the view\n",
    "view"
   ]
  },
  {
   "attachments": {},
   "cell_type": "markdown",
   "metadata": {},
   "source": [
    "In this code, the add_representation function is used to add a new graphical representation to the protein. The selection parameter specifies which part of the protein the representation applies to. The color parameter specifies how to color the representation. 'sstruc' colors the protein based on its secondary structure, with helices, sheets, and coils each having different colors.\n",
    "\n",
    "Adding a surface representation gives a sense of the overall shape of the protein, which can be useful for understanding its interactions with other molecules.\n"
   ]
  },
  {
   "cell_type": "code",
   "execution_count": null,
   "metadata": {},
   "outputs": [],
   "source": [
    "from Bio.PDB import PDBParser, Superimposer, Selection\n",
    "import matplotlib.pyplot as plt\n",
    "import numpy as np\n",
    "\n",
    "# Parse the PDB files\n",
    "parser = PDBParser()\n",
    "structure1 = parser.get_structure(\"1AH0\", \"1AH0.pdb\")\n",
    "structure2 = parser.get_structure(\"2ZXE\", \"2ZXE.pdb\")\n",
    "\n",
    "# Extract alpha carbons\n",
    "backbone1 = Selection.unfold_entities(structure1[0], 'A')  # all alpha carbon atoms from structure 1\n",
    "backbone2 = Selection.unfold_entities(structure2[0], 'A')  # all alpha carbon atoms from structure 2\n",
    "\n",
    "# Make sure both lists are of equal length\n",
    "backbone1 = backbone1[:min(len(backbone1), len(backbone2))]\n",
    "backbone2 = backbone2[:min(len(backbone1), len(backbone2))]\n",
    "\n",
    "# Calculate residue-by-residue RMSD\n",
    "rmsd_per_residue = [atom1 - atom2 for atom1, atom2 in zip(backbone1, backbone2)]\n",
    "\n",
    "# Plot the RMSD values\n",
    "# Your code goes here:\n",
    "\n",
    "\n",
    "\n"
   ]
  },
  {
   "cell_type": "code",
   "execution_count": null,
   "metadata": {},
   "outputs": [],
   "source": [
    "!pip install biopython\n",
    "!pip install numpy\n",
    "!pip install matplotlib\n",
    "!pip install seaborn"
   ]
  },
  {
   "attachments": {},
   "cell_type": "markdown",
   "metadata": {},
   "source": [
    "The code calculates and visualizes the contact maps for two protein structures (1AH0 and 2ZXE). Contact maps provide information about which residues in the protein are in close proximity to each other based on a distance cutoff. The heatmaps show a color-coded representation of the contact maps, where brighter colors indicate closer proximity between residues."
   ]
  },
  {
   "cell_type": "code",
   "execution_count": null,
   "metadata": {},
   "outputs": [],
   "source": [
    "from Bio.PDB import PDBParser, Selection\n",
    "import numpy as np\n",
    "import matplotlib.pyplot as plt\n",
    "import seaborn as sns\n",
    "\n",
    "# Parse the PDB filesa\n",
    "parser = PDBParser()\n",
    "structure1 = parser.get_structure(\"1AH0\", \"1AH0.pdb\")\n",
    "structure2 = parser.get_structure(\"2ZXE\", \"2ZXE.pdb\")\n",
    "\n",
    "# Extract alpha carbons\n",
    "backbone1 = [residue['CA'] for residue in structure1.get_residues() if 'CA' in residue]\n",
    "backbone2 = [residue['CA'] for residue in structure2.get_residues() if 'CA' in residue]\n",
    "\n",
    "# Define a distance cutoff (in Angstroms)\n",
    "cutoff = 8.0\n",
    "\n",
    "# Initialize contact maps\n",
    "contact_map1 = np.zeros((len(backbone1), len(backbone1)))\n",
    "contact_map2 = np.zeros((len(backbone2), len(backbone2)))\n",
    "\n",
    "# Populate the contact maps\n",
    "for i in range(len(backbone1)):\n",
    "    for j in range(i, len(backbone1)):\n",
    "        if backbone1[i] - backbone1[j] < cutoff:\n",
    "            contact_map1[i, j] = 1\n",
    "            contact_map1[j, i] = 1\n",
    "\n",
    "for i in range(len(backbone2)):\n",
    "    for j in range(i, len(backbone2)):\n",
    "        if backbone2[i] - backbone2[j] < cutoff:\n",
    "            contact_map2[i, j] = 1\n",
    "            contact_map2[j, i] = 1\n",
    "\n",
    "# Visualize the contact maps\n",
    "fig, ax = plt.subplots(1, 2, figsize=(12, 5))\n",
    "\n",
    "sns.heatmap(contact_map1, ax=ax[0], cmap='viridis', cbar=False)\n",
    "ax[0].set_title(\"Contact map of 1AH0\")\n",
    "\n",
    "sns.heatmap(contact_map2, ax=ax[1], cmap='viridis', cbar=False)\n",
    "ax[1].set_title(\"Contact map of 2ZXE\")\n",
    "\n",
    "plt.show()\n"
   ]
  },
  {
   "attachments": {},
   "cell_type": "markdown",
   "metadata": {},
   "source": [
    "The code calculates and visualizes the Ramachandran plot for a protein structure specified by its PDB code. The Ramachandran plot provides insights into the conformation of protein backbone torsion angles (Phi and Psi) for each residue. The scatter plot shows the distribution of Phi and Psi angles, allowing you to analyze the secondary structure characteristics and identify regions with specific conformational properties."
   ]
  },
  {
   "cell_type": "code",
   "execution_count": null,
   "metadata": {},
   "outputs": [],
   "source": [
    "from Bio.PDB import PDBParser, PPBuilder\n",
    "import matplotlib.pyplot as plt\n",
    "import numpy as np\n",
    "\n",
    "# Parsing the structure\n",
    "pdb_code = '1AH0'  # Update this to match your PDB code\n",
    "parser = PDBParser()\n",
    "structure = parser.get_structure(pdb_code, f'{pdb_code}.pdb')  # Update path if needed\n",
    "\n",
    "# Calculating Phi and Psi angles\n",
    "phi_angles, psi_angles = [], []\n",
    "for model in structure:\n",
    "    for chain in model:\n",
    "        polypeptides = PPBuilder().build_peptides(chain)\n",
    "        for poly_index, poly in enumerate(polypeptides):\n",
    "            phi_psi = poly.get_phi_psi_list()\n",
    "            for res_index, residue in enumerate(poly):\n",
    "                res_name = \"%s:%s:%s\" % (str(poly_index), residue.resname, residue.id[1])\n",
    "                phi, psi = phi_psi[res_index]\n",
    "                if phi and psi:  # Ignore None values\n",
    "                    phi_angles.append(phi)\n",
    "                    psi_angles.append(psi)\n",
    "\n",
    "# Plotting the results\n",
    "# Your code goes here:\n",
    "\n",
    "\n",
    "\n"
   ]
  },
  {
   "cell_type": "code",
   "execution_count": null,
   "metadata": {},
   "outputs": [],
   "source": []
  },
  {
   "cell_type": "code",
   "execution_count": null,
   "metadata": {},
   "outputs": [],
   "source": []
  },
  {
   "cell_type": "code",
   "execution_count": null,
   "metadata": {},
   "outputs": [],
   "source": []
  },
  {
   "cell_type": "code",
   "execution_count": null,
   "metadata": {},
   "outputs": [],
   "source": []
  }
 ],
 "metadata": {
  "kernelspec": {
   "display_name": "Python 3",
   "language": "python",
   "name": "python3"
  },
  "language_info": {
   "codemirror_mode": {
    "name": "ipython",
    "version": 3
   },
   "file_extension": ".py",
   "mimetype": "text/x-python",
   "name": "python",
   "nbconvert_exporter": "python",
   "pygments_lexer": "ipython3",
   "version": "3.11.3"
  },
  "orig_nbformat": 4
 },
 "nbformat": 4,
 "nbformat_minor": 2
}
