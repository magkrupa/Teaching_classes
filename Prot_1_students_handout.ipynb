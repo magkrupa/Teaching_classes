{
 "cells": [
  {
   "cell_type": "markdown",
   "id": "ed0e646a",
   "metadata": {},
   "source": [
    "# Protein exercise 1"
   ]
  },
  {
   "cell_type": "markdown",
   "id": "389edbec",
   "metadata": {},
   "source": [
    "Proteins are large biomolecules and macromolecules that comprise one or more long chains of amino acid residues. Proteins perform a vast array of functions within organisms, including catalysing metabolic reactions, DNA replication, responding to stimuli, providing structure to cells and organisms, and transporting molecules from one location to another. Proteins differ from one another primarily in their sequence of amino acids, which is dictated by the nucleotide sequence of their genes, and which usually results in protein folding into a specific 3D structure that determines its activity.\n",
    "\n",
    "A linear chain of amino acid residues is called a polypeptide.\n",
    "\n",
    "![Protein Translation - wikipedia](https://upload.wikimedia.org/wikipedia/commons/thumb/b/b1/Ribosome_mRNA_translation_en.svg/1920px-Ribosome_mRNA_translation_en.svg.png)"
   ]
  },
  {
   "cell_type": "markdown",
   "id": "3a218669",
   "metadata": {},
   "source": [
    "## Python\n",
    "Easy to code: Python is very easy to learn the language as compared to other languages \\\n",
    "● Free and Open Source: It means that Python source code is freely available to the public\n",
    "for download \\\n",
    "● Object-Oriented Language: One of the key features of python is Object-Oriented\n",
    "programming \\\n",
    "● High-Level Language:When we write programs in python, we do not need to remember\n",
    "the system architecture, nor do we need to manage the memory. \\\n",
    "● Extensible feature:We can write us some Python code into C or C++ language \\\n",
    "● Python is Portable language: Python code for windows can be run on other platforms such\n",
    "as Linux, Unix, and Mac \\\n",
    "● Interpreted Language: Python code is executed line by line at a time, there is no need to\n",
    "compile python code. \\\n",
    "● Dynamically Typed Language: That means the type for a variable is decided at run time\n",
    "not in advance, so we don’t need to specify the type of variable. "
   ]
  },
  {
   "cell_type": "markdown",
   "id": "d51df9de",
   "metadata": {},
   "source": [
    "## Jupyter Notebook\n",
    "\n",
    "https://jupyter.org/\n",
    "\n",
    "\n",
    "![](https://res.cloudinary.com/edlitera/image/upload/c_fill,f_auto/v1594161194/blog/wnnrl4n17gum2uxns2i9)"
   ]
  },
  {
   "cell_type": "markdown",
   "id": "700eac2b",
   "metadata": {},
   "source": [
    "www: https://zebrafish.ipipan.waw.pl/jupyter/ \\\n",
    "\n",
    "login:      jupyter \\\n",
    "password:   GeczKMQEGVKdKxtUAzFxzem4k"
   ]
  },
  {
   "cell_type": "code",
   "execution_count": 2,
   "id": "50ab6c3b",
   "metadata": {},
   "outputs": [
    {
     "name": "stdout",
     "output_type": "stream",
     "text": [
      "Collecting Bio\n",
      "  Downloading bio-1.5.9-py3-none-any.whl (276 kB)\n",
      "\u001b[2K     \u001b[90m━━━━━━━━━━━━━━━━━━━━━━━━━━━━━━━━━━━━━━━\u001b[0m \u001b[32m276.4/276.4 kB\u001b[0m \u001b[31m2.4 MB/s\u001b[0m eta \u001b[36m0:00:00\u001b[0ma \u001b[36m0:00:01\u001b[0m\n",
      "\u001b[?25hCollecting mygene\n",
      "  Downloading mygene-3.2.2-py2.py3-none-any.whl (5.4 kB)\n",
      "Collecting biopython>=1.80\n",
      "  Downloading biopython-1.81-cp38-cp38-manylinux_2_17_x86_64.manylinux2014_x86_64.whl (3.1 MB)\n",
      "\u001b[2K     \u001b[90m━━━━━━━━━━━━━━━━━━━━━━━━━━━━━━━━━━━━━━━━\u001b[0m \u001b[32m3.1/3.1 MB\u001b[0m \u001b[31m9.7 MB/s\u001b[0m eta \u001b[36m0:00:00\u001b[0m:00:01\u001b[0m00:01\u001b[0m\n",
      "\u001b[?25hCollecting pooch\n",
      "  Downloading pooch-1.7.0-py3-none-any.whl (60 kB)\n",
      "\u001b[2K     \u001b[90m━━━━━━━━━━━━━━━━━━━━━━━━━━━━━━━━━━━━━━━━\u001b[0m \u001b[32m60.9/60.9 kB\u001b[0m \u001b[31m1.2 MB/s\u001b[0m eta \u001b[36m0:00:00\u001b[0mta \u001b[36m0:00:01\u001b[0m\n",
      "\u001b[?25hRequirement already satisfied: requests in /opt/anaconda/lib/python3.8/site-packages (from Bio) (2.29.0)\n",
      "Collecting gprofiler-official\n",
      "  Downloading gprofiler_official-1.0.0-py3-none-any.whl (9.3 kB)\n",
      "Collecting pandas\n",
      "  Downloading pandas-2.0.2-cp38-cp38-manylinux_2_17_x86_64.manylinux2014_x86_64.whl (12.3 MB)\n",
      "\u001b[2K     \u001b[90m━━━━━━━━━━━━━━━━━━━━━━━━━━━━━━━━━━━━━━━━\u001b[0m \u001b[32m12.3/12.3 MB\u001b[0m \u001b[31m18.2 MB/s\u001b[0m eta \u001b[36m0:00:00\u001b[0m00:01\u001b[0m00:01\u001b[0m\n",
      "\u001b[?25hRequirement already satisfied: tqdm in /opt/anaconda/lib/python3.8/site-packages (from Bio) (4.65.0)\n",
      "Collecting numpy\n",
      "  Downloading numpy-1.24.3-cp38-cp38-manylinux_2_17_x86_64.manylinux2014_x86_64.whl (17.3 MB)\n",
      "\u001b[2K     \u001b[90m━━━━━━━━━━━━━━━━━━━━━━━━━━━━━━━━━━━━━━━━\u001b[0m \u001b[32m17.3/17.3 MB\u001b[0m \u001b[31m14.4 MB/s\u001b[0m eta \u001b[36m0:00:00\u001b[0m00:01\u001b[0m00:01\u001b[0m\n",
      "\u001b[?25hCollecting biothings-client>=0.2.6\n",
      "  Downloading biothings_client-0.3.0-py2.py3-none-any.whl (29 kB)\n",
      "Requirement already satisfied: pytz>=2020.1 in /opt/anaconda/lib/python3.8/site-packages (from pandas->Bio) (2022.7)\n",
      "Collecting tzdata>=2022.1\n",
      "  Downloading tzdata-2023.3-py2.py3-none-any.whl (341 kB)\n",
      "\u001b[2K     \u001b[90m━━━━━━━━━━━━━━━━━━━━━━━━━━━━━━━━━━━━━━━\u001b[0m \u001b[32m341.8/341.8 kB\u001b[0m \u001b[31m7.4 MB/s\u001b[0m eta \u001b[36m0:00:00\u001b[0m00:01\u001b[0m\n",
      "\u001b[?25hRequirement already satisfied: python-dateutil>=2.8.2 in /opt/anaconda/lib/python3.8/site-packages (from pandas->Bio) (2.8.2)\n",
      "Requirement already satisfied: packaging>=20.0 in /opt/anaconda/lib/python3.8/site-packages (from pooch->Bio) (23.0)\n",
      "Requirement already satisfied: platformdirs>=2.5.0 in /opt/anaconda/lib/python3.8/site-packages (from pooch->Bio) (2.5.2)\n",
      "Requirement already satisfied: charset-normalizer<4,>=2 in /opt/anaconda/lib/python3.8/site-packages (from requests->Bio) (2.0.4)\n",
      "Requirement already satisfied: certifi>=2017.4.17 in /opt/anaconda/lib/python3.8/site-packages (from requests->Bio) (2023.5.7)\n",
      "Requirement already satisfied: idna<4,>=2.5 in /opt/anaconda/lib/python3.8/site-packages (from requests->Bio) (3.4)\n",
      "Requirement already satisfied: urllib3<1.27,>=1.21.1 in /opt/anaconda/lib/python3.8/site-packages (from requests->Bio) (1.26.16)\n",
      "Requirement already satisfied: six>=1.5 in /opt/anaconda/lib/python3.8/site-packages (from python-dateutil>=2.8.2->pandas->Bio) (1.16.0)\n",
      "Installing collected packages: tzdata, numpy, pooch, pandas, gprofiler-official, biothings-client, biopython, mygene, Bio\n",
      "Successfully installed Bio-1.5.9 biopython-1.81 biothings-client-0.3.0 gprofiler-official-1.0.0 mygene-3.2.2 numpy-1.24.3 pandas-2.0.2 pooch-1.7.0 tzdata-2023.3\n"
     ]
    }
   ],
   "source": [
    "# Install BioPython\n",
    "!pip install Bio"
   ]
  },
  {
   "cell_type": "code",
   "execution_count": 3,
   "id": "41158516",
   "metadata": {},
   "outputs": [],
   "source": [
    "# Import necessary libraries\n",
    "import requests\n",
    "from Bio.SeqUtils.ProtParam import ProteinAnalysis"
   ]
  },
  {
   "cell_type": "code",
   "execution_count": 4,
   "id": "2603bcb2",
   "metadata": {},
   "outputs": [],
   "source": [
    "# Define the UniProt accession IDs of the proteins to download\n",
    "accession_ids = [\"P80276\"]  # Replace with the UniProt accession IDs you want to download"
   ]
  },
  {
   "cell_type": "code",
   "execution_count": 5,
   "id": "31a36cef",
   "metadata": {},
   "outputs": [],
   "source": [
    "# Function to fetch protein sequences from UniProt\n",
    "def fetch_protein_sequence(accession_id):\n",
    "    url = f\"https://www.uniprot.org/uniprot/{accession_id}.fasta\"\n",
    "    response = requests.get(url)\n",
    "    response.raise_for_status()  # Raise an exception if there's an error in the HTTP request\n",
    "    return response.text"
   ]
  },
  {
   "cell_type": "code",
   "execution_count": 6,
   "id": "60ad57bb",
   "metadata": {},
   "outputs": [],
   "source": [
    "# Fetch and store the protein sequences\n",
    "protein_sequences = []\n",
    "for accession_id in accession_ids:\n",
    "    sequence = fetch_protein_sequence(accession_id)\n",
    "    protein_sequences.append(sequence)"
   ]
  },
  {
   "cell_type": "code",
   "execution_count": 7,
   "id": "3c6e6bf4",
   "metadata": {},
   "outputs": [
    {
     "name": "stdout",
     "output_type": "stream",
     "text": [
      ">sp|P80276|ALDR_PIG Aldo-keto reductase family 1 member B1 OS=Sus scrofa OX=9823 GN=AKR1B1 PE=1 SV=2\n",
      "MASHLVLYTGAKMPILGLGTWKSPPGKVTEAVKVAIDLGYRHIDCAHVYQNENEVGLGLQ\n",
      "EKLQGQVVKREDLFIVSKLWCTDHEKNLVKGACQTTLRDLKLDYLDLYLIHWPTGFKPGK\n",
      "DPFPLDGDGNVVPDESDFVETWEAMEELVDEGLVKAIGVSNFNHLQVEKILNKPGLKYKP\n",
      "AVNQIEVHPYLTQEKLIEYCKSKGIVVTAYSPLGSPDRPWAKPEDPSLLEDPRIKAIAAK\n",
      "YNKTTAQVLIRFPMQRNLIVIPKSVTPERIAENFQVFDFELSPEDMNTLLSYNRNWRVCA\n",
      "LMSCASHKDYPFHEEY\n",
      "\n"
     ]
    }
   ],
   "source": [
    "# Print the protein sequences\n",
    "for sequence in protein_sequences:\n",
    "    print(sequence)"
   ]
  },
  {
   "cell_type": "markdown",
   "id": "fa151ac0",
   "metadata": {},
   "source": [
    "### What is \"OS\", \"OX\", \"GN\", \"PE\" and \"SV\" in the UniProt FASTA file?"
   ]
  },
  {
   "cell_type": "code",
   "execution_count": 8,
   "id": "c581c26c",
   "metadata": {},
   "outputs": [
    {
     "name": "stdout",
     "output_type": "stream",
     "text": [
      "Protein length: 322\n"
     ]
    }
   ],
   "source": [
    "\"\"\"\n",
    "Calculate the length of a protein sequence\n",
    "By splitting the string at the first newline character ('\\n'), \n",
    "you separate the header from the protein sequence. The [1] index \n",
    "retrieves the second element, which is the protein sequence itself. \n",
    "The len() function then calculates the length of the protein sequence.\n",
    "\"\"\"\n",
    "protein_length = len(protein_sequences[0].split('\\n', 1)[1])\n",
    "print(\"Protein length:\", protein_length)"
   ]
  },
  {
   "cell_type": "code",
   "execution_count": 9,
   "id": "be08b7d1",
   "metadata": {},
   "outputs": [
    {
     "data": {
      "text/plain": [
       "'MASHLVLYTGAKMPILGLGTWKSPPGKVTEAVKVAIDLGYRHIDCAHVYQNENEVGLGLQ\\nEKLQGQVVKREDLFIVSKLWCTDHEKNLVKGACQTTLRDLKLDYLDLYLIHWPTGFKPGK\\nDPFPLDGDGNVVPDESDFVETWEAMEELVDEGLVKAIGVSNFNHLQVEKILNKPGLKYKP\\nAVNQIEVHPYLTQEKLIEYCKSKGIVVTAYSPLGSPDRPWAKPEDPSLLEDPRIKAIAAK\\nYNKTTAQVLIRFPMQRNLIVIPKSVTPERIAENFQVFDFELSPEDMNTLLSYNRNWRVCA\\nLMSCASHKDYPFHEEY\\n'"
      ]
     },
     "execution_count": 9,
     "metadata": {},
     "output_type": "execute_result"
    }
   ],
   "source": [
    "seq= protein_sequences[0].split('\\n', 1)[1]\n",
    "seq"
   ]
  },
  {
   "cell_type": "code",
   "execution_count": 10,
   "id": "1eac4576",
   "metadata": {},
   "outputs": [
    {
     "data": {
      "text/plain": [
       "35867.82520000004"
      ]
     },
     "execution_count": 10,
     "metadata": {},
     "output_type": "execute_result"
    }
   ],
   "source": [
    "analyzed_seq = ProteinAnalysis(str(seq))\n",
    "analyzed_seq.molecular_weight()"
   ]
  },
  {
   "cell_type": "code",
   "execution_count": 11,
   "id": "44fe9530",
   "metadata": {},
   "outputs": [
    {
     "data": {
      "text/plain": [
       "{'A': 18,\n",
       " 'C': 6,\n",
       " 'D': 19,\n",
       " 'E': 24,\n",
       " 'F': 10,\n",
       " 'G': 18,\n",
       " 'H': 9,\n",
       " 'I': 16,\n",
       " 'K': 26,\n",
       " 'L': 34,\n",
       " 'M': 6,\n",
       " 'N': 14,\n",
       " 'P': 22,\n",
       " 'Q': 11,\n",
       " 'R': 10,\n",
       " 'S': 14,\n",
       " 'T': 14,\n",
       " 'V': 26,\n",
       " 'W': 6,\n",
       " 'Y': 13}"
      ]
     },
     "execution_count": 11,
     "metadata": {},
     "output_type": "execute_result"
    }
   ],
   "source": [
    "analyzed_seq.count_amino_acids()"
   ]
  },
  {
   "cell_type": "code",
   "execution_count": 13,
   "id": "321f4d18",
   "metadata": {},
   "outputs": [
    {
     "name": "stdout",
     "output_type": "stream",
     "text": [
      "Collecting matplotlib\n",
      "  Downloading matplotlib-3.7.1-cp38-cp38-manylinux_2_12_x86_64.manylinux2010_x86_64.whl (9.2 MB)\n",
      "\u001b[2K     \u001b[90m━━━━━━━━━━━━━━━━━━━━━━━━━━━━━━━━━━━━━━━━\u001b[0m \u001b[32m9.2/9.2 MB\u001b[0m \u001b[31m14.7 MB/s\u001b[0m eta \u001b[36m0:00:00\u001b[0m00:01\u001b[0m00:01\u001b[0m\n",
      "\u001b[?25hCollecting pyparsing>=2.3.1\n",
      "  Downloading pyparsing-3.1.0-py3-none-any.whl (102 kB)\n",
      "\u001b[2K     \u001b[90m━━━━━━━━━━━━━━━━━━━━━━━━━━━━━━━━━━━━━━━\u001b[0m \u001b[32m102.6/102.6 kB\u001b[0m \u001b[31m2.8 MB/s\u001b[0m eta \u001b[36m0:00:00\u001b[0m\n",
      "\u001b[?25hCollecting kiwisolver>=1.0.1\n",
      "  Downloading kiwisolver-1.4.4-cp38-cp38-manylinux_2_5_x86_64.manylinux1_x86_64.whl (1.2 MB)\n",
      "\u001b[2K     \u001b[90m━━━━━━━━━━━━━━━━━━━━━━━━━━━━━━━━━━━━━━━━\u001b[0m \u001b[32m1.2/1.2 MB\u001b[0m \u001b[31m7.5 MB/s\u001b[0m eta \u001b[36m0:00:00\u001b[0m:00:01\u001b[0m\n",
      "\u001b[?25hCollecting fonttools>=4.22.0\n",
      "  Downloading fonttools-4.40.0-cp38-cp38-manylinux_2_17_x86_64.manylinux2014_x86_64.whl (4.4 MB)\n",
      "\u001b[2K     \u001b[90m━━━━━━━━━━━━━━━━━━━━━━━━━━━━━━━━━━━━━━━━\u001b[0m \u001b[32m4.4/4.4 MB\u001b[0m \u001b[31m17.4 MB/s\u001b[0m eta \u001b[36m0:00:00\u001b[0m00:01\u001b[0m00:01\u001b[0m\n",
      "\u001b[?25hRequirement already satisfied: importlib-resources>=3.2.0 in /opt/anaconda/lib/python3.8/site-packages (from matplotlib) (5.12.0)\n",
      "Requirement already satisfied: pillow>=6.2.0 in /opt/anaconda/lib/python3.8/site-packages (from matplotlib) (9.4.0)\n",
      "Requirement already satisfied: packaging>=20.0 in /opt/anaconda/lib/python3.8/site-packages (from matplotlib) (23.0)\n",
      "Requirement already satisfied: python-dateutil>=2.7 in /opt/anaconda/lib/python3.8/site-packages (from matplotlib) (2.8.2)\n",
      "Collecting contourpy>=1.0.1\n",
      "  Downloading contourpy-1.1.0-cp38-cp38-manylinux_2_17_x86_64.manylinux2014_x86_64.whl (300 kB)\n",
      "\u001b[2K     \u001b[90m━━━━━━━━━━━━━━━━━━━━━━━━━━━━━━━━━━━━━━━\u001b[0m \u001b[32m300.4/300.4 kB\u001b[0m \u001b[31m6.4 MB/s\u001b[0m eta \u001b[36m0:00:00\u001b[0m00:01\u001b[0m\n",
      "\u001b[?25hCollecting cycler>=0.10\n",
      "  Downloading cycler-0.11.0-py3-none-any.whl (6.4 kB)\n",
      "Requirement already satisfied: numpy>=1.20 in /opt/anaconda/lib/python3.8/site-packages (from matplotlib) (1.24.3)\n",
      "Requirement already satisfied: zipp>=3.1.0 in /opt/anaconda/lib/python3.8/site-packages (from importlib-resources>=3.2.0->matplotlib) (3.11.0)\n",
      "Requirement already satisfied: six>=1.5 in /opt/anaconda/lib/python3.8/site-packages (from python-dateutil>=2.7->matplotlib) (1.16.0)\n",
      "Installing collected packages: pyparsing, kiwisolver, fonttools, cycler, contourpy, matplotlib\n",
      "Successfully installed contourpy-1.1.0 cycler-0.11.0 fonttools-4.40.0 kiwisolver-1.4.4 matplotlib-3.7.1 pyparsing-3.1.0\n"
     ]
    }
   ],
   "source": [
    "!pip install matplotlib"
   ]
  },
  {
   "cell_type": "code",
   "execution_count": 14,
   "id": "56f7804a",
   "metadata": {},
   "outputs": [
    {
     "data": {
      "image/png": "[encoded data removed]",
      "text/plain": [
       "<Figure size 1000x600 with 1 Axes>"
      ]
     },
     "metadata": {},
     "output_type": "display_data"
    }
   ],
   "source": [
    "import matplotlib.pyplot as plt\n",
    "\n",
    "# Assume analyzed_seq is your sequence object\n",
    "amino_acids_count = analyzed_seq.count_amino_acids()\n",
    "\n",
    "# Create lists of amino acids (keys) and their counts (values)\n",
    "amino_acids = list(amino_acids_count.keys())\n",
    "counts = list(amino_acids_count.values())\n",
    "\n",
    "plt.figure(figsize=(10,6))  # Create a new figure with a specific size (optional)\n",
    "plt.bar(amino_acids, counts)  # Create a bar plot\n",
    "plt.xlabel('Amino Acids')  # X-axis label\n",
    "plt.ylabel('Count')  # Y-axis label\n",
    "plt.title('Amino Acids Count')  # Plot title\n",
    "plt.show()  # Show the plot"
   ]
  },
  {
   "cell_type": "code",
   "execution_count": 15,
   "id": "33e24947",
   "metadata": {},
   "outputs": [
    {
     "data": {
      "text/plain": [
       "{'A': 0.055900621118012424,\n",
       " 'C': 0.018633540372670808,\n",
       " 'D': 0.059006211180124224,\n",
       " 'E': 0.07453416149068323,\n",
       " 'F': 0.031055900621118012,\n",
       " 'G': 0.055900621118012424,\n",
       " 'H': 0.027950310559006212,\n",
       " 'I': 0.049689440993788817,\n",
       " 'K': 0.08074534161490683,\n",
       " 'L': 0.10559006211180125,\n",
       " 'M': 0.018633540372670808,\n",
       " 'N': 0.043478260869565216,\n",
       " 'P': 0.06832298136645963,\n",
       " 'Q': 0.034161490683229816,\n",
       " 'R': 0.031055900621118012,\n",
       " 'S': 0.043478260869565216,\n",
       " 'T': 0.043478260869565216,\n",
       " 'V': 0.08074534161490683,\n",
       " 'W': 0.018633540372670808,\n",
       " 'Y': 0.040372670807453416}"
      ]
     },
     "execution_count": 15,
     "metadata": {},
     "output_type": "execute_result"
    }
   ],
   "source": [
    "analyzed_seq.get_amino_acids_percent()"
   ]
  },
  {
   "cell_type": "markdown",
   "id": "b6b4af3a",
   "metadata": {},
   "source": [
    "### Plot the results of % <- Students excercise"
   ]
  },
  {
   "cell_type": "code",
   "execution_count": 16,
   "id": "055a1891",
   "metadata": {},
   "outputs": [
    {
     "name": "stdout",
     "output_type": "stream",
     "text": [
      "Collecting nglview\n",
      "  Downloading nglview-3.0.5.tar.gz (5.9 MB)\n",
      "\u001b[2K     \u001b[90m━━━━━━━━━━━━━━━━━━━━━━━━━━━━━━━━━━━━━━━━\u001b[0m \u001b[32m5.9/5.9 MB\u001b[0m \u001b[31m10.6 MB/s\u001b[0m eta \u001b[36m0:00:00\u001b[0m00:01\u001b[0m00:01\u001b[0m\n",
      "\u001b[?25h  Installing build dependencies ... \u001b[?25ldone\n",
      "\u001b[?25h  Getting requirements to build wheel ... \u001b[?25ldone\n",
      "\u001b[?25h  Preparing metadata (pyproject.toml) ... \u001b[?25ldone\n",
      "\u001b[?25hRequirement already satisfied: numpy in /opt/anaconda/lib/python3.8/site-packages (from nglview) (1.24.3)\n",
      "Collecting ipywidgets>=7\n",
      "  Downloading ipywidgets-8.0.6-py3-none-any.whl (138 kB)\n",
      "\u001b[2K     \u001b[90m━━━━━━━━━━━━━━━━━━━━━━━━━━━━━━━━━━━━━━━\u001b[0m \u001b[32m138.3/138.3 kB\u001b[0m \u001b[31m2.5 MB/s\u001b[0m eta \u001b[36m0:00:00\u001b[0ma \u001b[36m0:00:01\u001b[0m\n",
      "\u001b[?25hCollecting jupyterlab-widgets\n",
      "  Downloading jupyterlab_widgets-3.0.7-py3-none-any.whl (198 kB)\n",
      "\u001b[2K     \u001b[90m━━━━━━━━━━━━━━━━━━━━━━━━━━━━━━━━━━━━━━━\u001b[0m \u001b[32m198.2/198.2 kB\u001b[0m \u001b[31m1.2 MB/s\u001b[0m eta \u001b[36m0:00:00\u001b[0m00:01\u001b[0m\n",
      "\u001b[?25hRequirement already satisfied: traitlets>=4.3.1 in /opt/anaconda/lib/python3.8/site-packages (from ipywidgets>=7->nglview) (5.7.1)\n",
      "Collecting widgetsnbextension~=4.0.7\n",
      "  Downloading widgetsnbextension-4.0.7-py3-none-any.whl (2.1 MB)\n",
      "\u001b[2K     \u001b[90m━━━━━━━━━━━━━━━━━━━━━━━━━━━━━━━━━━━━━━━━\u001b[0m \u001b[32m2.1/2.1 MB\u001b[0m \u001b[31m17.8 MB/s\u001b[0m eta \u001b[36m0:00:00\u001b[0m00:01\u001b[0m\n",
      "\u001b[?25hRequirement already satisfied: ipykernel>=4.5.1 in /opt/anaconda/lib/python3.8/site-packages (from ipywidgets>=7->nglview) (6.19.2)\n",
      "Requirement already satisfied: ipython>=6.1.0 in /opt/anaconda/lib/python3.8/site-packages (from ipywidgets>=7->nglview) (8.12.0)\n",
      "Requirement already satisfied: debugpy>=1.0 in /opt/anaconda/lib/python3.8/site-packages (from ipykernel>=4.5.1->ipywidgets>=7->nglview) (1.5.1)\n",
      "Requirement already satisfied: matplotlib-inline>=0.1 in /opt/anaconda/lib/python3.8/site-packages (from ipykernel>=4.5.1->ipywidgets>=7->nglview) (0.1.6)\n",
      "Requirement already satisfied: psutil in /opt/anaconda/lib/python3.8/site-packages (from ipykernel>=4.5.1->ipywidgets>=7->nglview) (5.9.0)\n",
      "Requirement already satisfied: tornado>=6.1 in /opt/anaconda/lib/python3.8/site-packages (from ipykernel>=4.5.1->ipywidgets>=7->nglview) (6.2)\n",
      "Requirement already satisfied: comm>=0.1.1 in /opt/anaconda/lib/python3.8/site-packages (from ipykernel>=4.5.1->ipywidgets>=7->nglview) (0.1.2)\n",
      "Requirement already satisfied: jupyter-client>=6.1.12 in /opt/anaconda/lib/python3.8/site-packages (from ipykernel>=4.5.1->ipywidgets>=7->nglview) (8.2.0)\n",
      "Requirement already satisfied: pyzmq>=17 in /opt/anaconda/lib/python3.8/site-packages (from ipykernel>=4.5.1->ipywidgets>=7->nglview) (25.1.0)\n",
      "Requirement already satisfied: nest-asyncio in /opt/anaconda/lib/python3.8/site-packages (from ipykernel>=4.5.1->ipywidgets>=7->nglview) (1.5.6)\n",
      "Requirement already satisfied: packaging in /opt/anaconda/lib/python3.8/site-packages (from ipykernel>=4.5.1->ipywidgets>=7->nglview) (23.0)\n",
      "Requirement already satisfied: prompt-toolkit!=3.0.37,<3.1.0,>=3.0.30 in /opt/anaconda/lib/python3.8/site-packages (from ipython>=6.1.0->ipywidgets>=7->nglview) (3.0.36)\n",
      "Requirement already satisfied: stack-data in /opt/anaconda/lib/python3.8/site-packages (from ipython>=6.1.0->ipywidgets>=7->nglview) (0.2.0)\n",
      "Requirement already satisfied: typing-extensions in /opt/anaconda/lib/python3.8/site-packages (from ipython>=6.1.0->ipywidgets>=7->nglview) (4.6.2)\n",
      "Requirement already satisfied: pexpect>4.3 in /opt/anaconda/lib/python3.8/site-packages (from ipython>=6.1.0->ipywidgets>=7->nglview) (4.8.0)\n",
      "Requirement already satisfied: decorator in /opt/anaconda/lib/python3.8/site-packages (from ipython>=6.1.0->ipywidgets>=7->nglview) (5.1.1)\n",
      "Requirement already satisfied: pickleshare in /opt/anaconda/lib/python3.8/site-packages (from ipython>=6.1.0->ipywidgets>=7->nglview) (0.7.5)\n",
      "Requirement already satisfied: pygments>=2.4.0 in /opt/anaconda/lib/python3.8/site-packages (from ipython>=6.1.0->ipywidgets>=7->nglview) (2.15.1)\n",
      "Requirement already satisfied: backcall in /opt/anaconda/lib/python3.8/site-packages (from ipython>=6.1.0->ipywidgets>=7->nglview) (0.2.0)\n",
      "Requirement already satisfied: jedi>=0.16 in /opt/anaconda/lib/python3.8/site-packages (from ipython>=6.1.0->ipywidgets>=7->nglview) (0.18.1)\n",
      "Requirement already satisfied: parso<0.9.0,>=0.8.0 in /opt/anaconda/lib/python3.8/site-packages (from jedi>=0.16->ipython>=6.1.0->ipywidgets>=7->nglview) (0.8.3)\n",
      "Requirement already satisfied: jupyter-core!=5.0.*,>=4.12 in /opt/anaconda/lib/python3.8/site-packages (from jupyter-client>=6.1.12->ipykernel>=4.5.1->ipywidgets>=7->nglview) (5.3.0)\n",
      "Requirement already satisfied: importlib-metadata>=4.8.3 in /opt/anaconda/lib/python3.8/site-packages (from jupyter-client>=6.1.12->ipykernel>=4.5.1->ipywidgets>=7->nglview) (6.6.0)\n",
      "Requirement already satisfied: python-dateutil>=2.8.2 in /opt/anaconda/lib/python3.8/site-packages (from jupyter-client>=6.1.12->ipykernel>=4.5.1->ipywidgets>=7->nglview) (2.8.2)\n",
      "Requirement already satisfied: ptyprocess>=0.5 in /opt/anaconda/lib/python3.8/site-packages (from pexpect>4.3->ipython>=6.1.0->ipywidgets>=7->nglview) (0.7.0)\n",
      "Requirement already satisfied: wcwidth in /opt/anaconda/lib/python3.8/site-packages (from prompt-toolkit!=3.0.37,<3.1.0,>=3.0.30->ipython>=6.1.0->ipywidgets>=7->nglview) (0.2.5)\n",
      "Requirement already satisfied: pure-eval in /opt/anaconda/lib/python3.8/site-packages (from stack-data->ipython>=6.1.0->ipywidgets>=7->nglview) (0.2.2)\n",
      "Requirement already satisfied: asttokens in /opt/anaconda/lib/python3.8/site-packages (from stack-data->ipython>=6.1.0->ipywidgets>=7->nglview) (2.0.5)\n",
      "Requirement already satisfied: executing in /opt/anaconda/lib/python3.8/site-packages (from stack-data->ipython>=6.1.0->ipywidgets>=7->nglview) (0.8.3)\n",
      "Requirement already satisfied: zipp>=0.5 in /opt/anaconda/lib/python3.8/site-packages (from importlib-metadata>=4.8.3->jupyter-client>=6.1.12->ipykernel>=4.5.1->ipywidgets>=7->nglview) (3.11.0)\n",
      "Requirement already satisfied: platformdirs>=2.5 in /opt/anaconda/lib/python3.8/site-packages (from jupyter-core!=5.0.*,>=4.12->jupyter-client>=6.1.12->ipykernel>=4.5.1->ipywidgets>=7->nglview) (2.5.2)\n",
      "Requirement already satisfied: six>=1.5 in /opt/anaconda/lib/python3.8/site-packages (from python-dateutil>=2.8.2->jupyter-client>=6.1.12->ipykernel>=4.5.1->ipywidgets>=7->nglview) (1.16.0)\n",
      "Building wheels for collected packages: nglview\n",
      "  Building wheel for nglview (pyproject.toml) ... \u001b[?25ldone\n",
      "\u001b[?25h  Created wheel for nglview: filename=nglview-3.0.5-py3-none-any.whl size=8267022 sha256=1a20a148ec7ed124c6341ec53e60482abe43be610555ca1044edf85d9669c6c8\n",
      "  Stored in directory: /home/m.krupa/.cache/pip/wheels/2b/fe/1d/f865c78c98d85258e66817c84ee474605763b567473389f1d7\n",
      "Successfully built nglview\n",
      "Installing collected packages: widgetsnbextension, jupyterlab-widgets, ipywidgets, nglview\n",
      "Successfully installed ipywidgets-8.0.6 jupyterlab-widgets-3.0.7 nglview-3.0.5 widgetsnbextension-4.0.7\n"
     ]
    }
   ],
   "source": [
    "# Install necessary libraries\n",
    "!pip install nglview"
   ]
  },
  {
   "cell_type": "code",
   "execution_count": 17,
   "id": "ce1fc541",
   "metadata": {},
   "outputs": [
    {
     "data": {
      "application/vnd.jupyter.widget-view+json": {
       "model_id": "e50642beb69a492b85e9173a88d38d06",
       "version_major": 2,
       "version_minor": 0
      },
      "text/plain": []
     },
     "metadata": {},
     "output_type": "display_data"
    }
   ],
   "source": [
    "# Import libraries\n",
    "import nglview as nv"
   ]
  },
  {
   "cell_type": "code",
   "execution_count": 18,
   "id": "f7e90f9b",
   "metadata": {},
   "outputs": [
    {
     "name": "stdout",
     "output_type": "stream",
     "text": [
      "PDB file saved: 1AH0.pdb\n",
      "PDB file saved: 1AH3.pdb\n",
      "PDB file saved: 1AH4.pdb\n",
      "PDB file saved: 1DLA.pdb\n",
      "PDB file saved: 1EKO.pdb\n",
      "PDB IDs: ['1AH0', '1AH3', '1AH4', '1DLA', '1EKO']\n"
     ]
    }
   ],
   "source": [
    "import requests  # Importing the requests library to make HTTP requests\n",
    "\n",
    "# This list contains UniProt accession IDs or protein names\n",
    "accession_ids = [\"P80276\"]\n",
    "\n",
    "# Function to fetch PDB IDs and download PDB files from UniProt\n",
    "def fetch_and_save_pdbs(accession_id):\n",
    "    # Form the URL to the txt format page for the given UniProt accession ID\n",
    "    url = f\"https://www.uniprot.org/uniprot/{accession_id}.txt\"\n",
    "\n",
    "    # Make a GET request to the URL\n",
    "    response = requests.get(url)\n",
    "\n",
    "    # If the GET request was unsuccessful, raise an exception\n",
    "    response.raise_for_status()\n",
    "\n",
    "    # Prepare an empty list to hold the PDB IDs\n",
    "    pdb_ids = []\n",
    "\n",
    "    # Loop through each line in the response text\n",
    "    for line in response.text.splitlines():\n",
    "\n",
    "        # If the line starts with \"DR   PDB;\", it contains a PDB ID\n",
    "        if line.startswith(\"DR   PDB;\"):\n",
    "            \n",
    "            # Extract the PDB ID from the line and append it to the list\n",
    "            pdb_id = line.split()[2].rstrip(\";\")\n",
    "            pdb_ids.append(pdb_id)\n",
    "\n",
    "            # Form the URL to the PDB file for the PDB ID\n",
    "            pdb_url = f\"https://files.rcsb.org/download/{pdb_id}.pdb\"\n",
    "\n",
    "            # Make a GET request to the PDB URL\n",
    "            pdb_response = requests.get(pdb_url)\n",
    "\n",
    "            # If the GET request was unsuccessful, raise an exception\n",
    "            pdb_response.raise_for_status()\n",
    "\n",
    "            # Set the file path to save the PDB file\n",
    "            pdb_file_path = f\"{pdb_id}.pdb\"\n",
    "\n",
    "            # Open the file in write binary mode and write the content of the response to it\n",
    "            with open(pdb_file_path, \"wb\") as file:\n",
    "                file.write(pdb_response.content)\n",
    "            \n",
    "            # Print a message indicating the file was saved\n",
    "            print(f\"PDB file saved: {pdb_file_path}\")\n",
    "\n",
    "    # Return the list of PDB IDs\n",
    "    return pdb_ids\n",
    "\n",
    "# Prepare an empty list to hold the lists of PDB IDs for each UniProt accession ID\n",
    "pdb_ids_list = []\n",
    "\n",
    "# For each UniProt accession ID, fetch and save the PDB IDs and files\n",
    "for accession_id in accession_ids:\n",
    "    pdb_ids = fetch_and_save_pdbs(accession_id)\n",
    "    pdb_ids_list.append(pdb_ids)\n",
    "\n",
    "# Print the retrieved PDB IDs\n",
    "for pdb_ids in pdb_ids_list:\n",
    "    print(\"PDB IDs:\", pdb_ids)"
   ]
  },
  {
   "cell_type": "code",
   "execution_count": 30,
   "id": "e57b3912",
   "metadata": {},
   "outputs": [
    {
     "data": {
      "application/vnd.jupyter.widget-view+json": {
       "model_id": "75ec013a441048d3b9dc1a3f0bc8a1e9",
       "version_major": 2,
       "version_minor": 0
      },
      "text/plain": [
       "NGLWidget()"
      ]
     },
     "metadata": {},
     "output_type": "display_data"
    }
   ],
   "source": [
    "# Load protein structure data (PDB file)\n",
    "protein_structure = nv.show_pdbid(\"1AH0\")\n",
    "\n",
    "# Display the protein structure\n",
    "protein_structure"
   ]
  },
  {
   "cell_type": "code",
   "execution_count": 20,
   "id": "5dac9c32",
   "metadata": {},
   "outputs": [
    {
     "name": "stdout",
     "output_type": "stream",
     "text": [
      "Collecting MDAnalysis\n",
      "  Downloading MDAnalysis-2.4.3-cp38-cp38-manylinux_2_17_x86_64.manylinux2014_x86_64.whl (8.1 MB)\n",
      "\u001b[2K     \u001b[90m━━━━━━━━━━━━━━━━━━━━━━━━━━━━━━━━━━━━━━━━\u001b[0m \u001b[32m8.1/8.1 MB\u001b[0m \u001b[31m16.4 MB/s\u001b[0m eta \u001b[36m0:00:00\u001b[0m00:01\u001b[0m00:01\u001b[0m\n",
      "\u001b[?25hRequirement already satisfied: numpy>=1.20.0 in /opt/anaconda/lib/python3.8/site-packages (from MDAnalysis) (1.24.3)\n",
      "Collecting gsd>=1.9.3\n",
      "  Downloading gsd-3.0.0-cp38-cp38-manylinux_2_17_x86_64.manylinux2014_x86_64.whl (545 kB)\n",
      "\u001b[2K     \u001b[90m━━━━━━━━━━━━━━━━━━━━━━━━━━━━━━━━━━━━━━\u001b[0m \u001b[32m545.5/545.5 kB\u001b[0m \u001b[31m10.6 MB/s\u001b[0m eta \u001b[36m0:00:00\u001b[0m00:01\u001b[0m\n",
      "\u001b[?25hRequirement already satisfied: biopython>=1.80 in /opt/anaconda/lib/python3.8/site-packages (from MDAnalysis) (1.81)\n",
      "Collecting joblib>=0.12\n",
      "  Downloading joblib-1.2.0-py3-none-any.whl (297 kB)\n",
      "\u001b[2K     \u001b[90m━━━━━━━━━━━━━━━━━━━━━━━━━━━━━━━━━━━━━━━\u001b[0m \u001b[32m298.0/298.0 kB\u001b[0m \u001b[31m5.9 MB/s\u001b[0m eta \u001b[36m0:00:00\u001b[0m00:01\u001b[0m\n",
      "\u001b[?25hCollecting scipy>=1.5.0\n",
      "  Downloading scipy-1.10.1-cp38-cp38-manylinux_2_17_x86_64.manylinux2014_x86_64.whl (34.5 MB)\n",
      "\u001b[2K     \u001b[90m━━━━━━━━━━━━━━━━━━━━━━━━━━━━━━━━━━━━━━━━\u001b[0m \u001b[32m34.5/34.5 MB\u001b[0m \u001b[31m8.4 MB/s\u001b[0m eta \u001b[36m0:00:00\u001b[0m:00:01\u001b[0m00:01\u001b[0m\n",
      "\u001b[?25hRequirement already satisfied: tqdm>=4.43.0 in /opt/anaconda/lib/python3.8/site-packages (from MDAnalysis) (4.65.0)\n",
      "Requirement already satisfied: matplotlib>=1.5.1 in /opt/anaconda/lib/python3.8/site-packages (from MDAnalysis) (3.7.1)\n",
      "Requirement already satisfied: packaging in /opt/anaconda/lib/python3.8/site-packages (from MDAnalysis) (23.0)\n",
      "Collecting fasteners\n",
      "  Downloading fasteners-0.18-py3-none-any.whl (18 kB)\n",
      "Collecting threadpoolctl\n",
      "  Downloading threadpoolctl-3.1.0-py3-none-any.whl (14 kB)\n",
      "Collecting networkx>=2.0\n",
      "  Downloading networkx-3.1-py3-none-any.whl (2.1 MB)\n",
      "\u001b[2K     \u001b[90m━━━━━━━━━━━━━━━━━━━━━━━━━━━━━━━━━━━━━━━━\u001b[0m \u001b[32m2.1/2.1 MB\u001b[0m \u001b[31m11.9 MB/s\u001b[0m eta \u001b[36m0:00:00\u001b[0m00:01\u001b[0m00:01\u001b[0m\n",
      "\u001b[?25hCollecting GridDataFormats>=0.4.0\n",
      "  Downloading GridDataFormats-1.0.1-py3-none-any.whl (2.1 MB)\n",
      "\u001b[2K     \u001b[90m━━━━━━━━━━━━━━━━━━━━━━━━━━━━━━━━━━━━━━━━\u001b[0m \u001b[32m2.1/2.1 MB\u001b[0m \u001b[31m7.8 MB/s\u001b[0m eta \u001b[36m0:00:00\u001b[0m:00:01\u001b[0m00:01\u001b[0m\n",
      "\u001b[?25hCollecting mmtf-python>=1.0.0\n",
      "  Downloading mmtf_python-1.1.3-py2.py3-none-any.whl (25 kB)\n",
      "Collecting mrcfile\n",
      "  Downloading mrcfile-1.4.3-py2.py3-none-any.whl (43 kB)\n",
      "\u001b[2K     \u001b[90m━━━━━━━━━━━━━━━━━━━━━━━━━━━━━━━━━━━━━━━━\u001b[0m \u001b[32m43.9/43.9 kB\u001b[0m \u001b[31m1.0 MB/s\u001b[0m eta \u001b[36m0:00:00\u001b[0m\n",
      "\u001b[?25hRequirement already satisfied: pillow>=6.2.0 in /opt/anaconda/lib/python3.8/site-packages (from matplotlib>=1.5.1->MDAnalysis) (9.4.0)\n",
      "Requirement already satisfied: pyparsing>=2.3.1 in /opt/anaconda/lib/python3.8/site-packages (from matplotlib>=1.5.1->MDAnalysis) (3.1.0)\n",
      "Requirement already satisfied: importlib-resources>=3.2.0 in /opt/anaconda/lib/python3.8/site-packages (from matplotlib>=1.5.1->MDAnalysis) (5.12.0)\n",
      "Requirement already satisfied: contourpy>=1.0.1 in /opt/anaconda/lib/python3.8/site-packages (from matplotlib>=1.5.1->MDAnalysis) (1.1.0)\n",
      "Requirement already satisfied: python-dateutil>=2.7 in /opt/anaconda/lib/python3.8/site-packages (from matplotlib>=1.5.1->MDAnalysis) (2.8.2)\n",
      "Requirement already satisfied: kiwisolver>=1.0.1 in /opt/anaconda/lib/python3.8/site-packages (from matplotlib>=1.5.1->MDAnalysis) (1.4.4)\n",
      "Requirement already satisfied: cycler>=0.10 in /opt/anaconda/lib/python3.8/site-packages (from matplotlib>=1.5.1->MDAnalysis) (0.11.0)\n",
      "Requirement already satisfied: fonttools>=4.22.0 in /opt/anaconda/lib/python3.8/site-packages (from matplotlib>=1.5.1->MDAnalysis) (4.40.0)\n",
      "Collecting msgpack>=1.0.0\n",
      "  Downloading msgpack-1.0.5-cp38-cp38-manylinux_2_17_x86_64.manylinux2014_x86_64.whl (322 kB)\n",
      "\u001b[2K     \u001b[90m━━━━━━━━━━━━━━━━━━━━━━━━━━━━━━━━━━━━━━━\u001b[0m \u001b[32m322.4/322.4 kB\u001b[0m \u001b[31m6.2 MB/s\u001b[0m eta \u001b[36m0:00:00\u001b[0m00:01\u001b[0m\n",
      "\u001b[?25hRequirement already satisfied: zipp>=3.1.0 in /opt/anaconda/lib/python3.8/site-packages (from importlib-resources>=3.2.0->matplotlib>=1.5.1->MDAnalysis) (3.11.0)\n",
      "Requirement already satisfied: six>=1.5 in /opt/anaconda/lib/python3.8/site-packages (from python-dateutil>=2.7->matplotlib>=1.5.1->MDAnalysis) (1.16.0)\n",
      "Installing collected packages: msgpack, threadpoolctl, scipy, networkx, mrcfile, mmtf-python, joblib, gsd, fasteners, GridDataFormats, MDAnalysis\n",
      "Successfully installed GridDataFormats-1.0.1 MDAnalysis-2.4.3 fasteners-0.18 gsd-3.0.0 joblib-1.2.0 mmtf-python-1.1.3 mrcfile-1.4.3 msgpack-1.0.5 networkx-3.1 scipy-1.10.1 threadpoolctl-3.1.0\n"
     ]
    }
   ],
   "source": [
    "# Install necessary libraries\n",
    "!pip install MDAnalysis"
   ]
  },
  {
   "cell_type": "code",
   "execution_count": 21,
   "id": "f1375aa2",
   "metadata": {},
   "outputs": [],
   "source": [
    "# Import libraries\n",
    "import nglview as nv\n",
    "import MDAnalysis as mda"
   ]
  },
  {
   "cell_type": "code",
   "execution_count": 22,
   "id": "91bc045d",
   "metadata": {},
   "outputs": [
    {
     "data": {
      "application/vnd.jupyter.widget-view+json": {
       "model_id": "677bec76ac024c66b530bef90ef6d73a",
       "version_major": 2,
       "version_minor": 0
      },
      "text/plain": [
       "NGLWidget()"
      ]
     },
     "metadata": {},
     "output_type": "display_data"
    }
   ],
   "source": [
    "# Load and visualize protein structure from a PDB file\n",
    "protein_structure = mda.Universe(\"1AH0.pdb\")\n",
    "protein_view = nv.show_mdanalysis(protein_structure)\n",
    "protein_view.add_ball_and_stick()\n",
    "protein_view"
   ]
  },
  {
   "cell_type": "code",
   "execution_count": 24,
   "id": "ab8e7ce7",
   "metadata": {},
   "outputs": [
    {
     "name": "stdout",
     "output_type": "stream",
     "text": [
      "Collecting py3Dmol\n",
      "  Downloading py3Dmol-2.0.3-py2.py3-none-any.whl (12 kB)\n",
      "Installing collected packages: py3Dmol\n",
      "Successfully installed py3Dmol-2.0.3\n"
     ]
    }
   ],
   "source": [
    "!pip install py3Dmol"
   ]
  },
  {
   "cell_type": "code",
   "execution_count": 25,
   "id": "9617a9e1",
   "metadata": {},
   "outputs": [
    {
     "data": {
      "text/plain": [
       "{'C': 1659, 'O': 663, 'N': 430, 'H': 546, 'S': 11, 'P': 3, 'F': 1}"
      ]
     },
     "execution_count": 25,
     "metadata": {},
     "output_type": "execute_result"
    }
   ],
   "source": [
    "# Import libraries\n",
    "import py3Dmol\n",
    "import MDAnalysis as mda\n",
    "import matplotlib.pyplot as plt\n",
    "\n",
    "# Load and convert protein structure from a PDB file\n",
    "protein_structure = mda.Universe(\"1AH0.pdb\")\n",
    "protein_atoms = protein_structure.select_atoms(\"all\")\n",
    "xyz = protein_atoms.positions\n",
    "elements = protein_atoms.elements\n",
    "# print(elements)\n",
    "# print(elements.count())\n",
    "\n",
    "\n",
    "\n",
    "# Calculate atom frequency\n",
    "atom_freq = {}\n",
    "for element in elements:\n",
    "    if element in atom_freq:\n",
    "        atom_freq[element] += 1\n",
    "    else:\n",
    "        atom_freq[element] = 1\n",
    "atom_freq"
   ]
  },
  {
   "cell_type": "markdown",
   "id": "cce2a656",
   "metadata": {},
   "source": [
    "### Plot the results of atom frequency <- Students excercise"
   ]
  },
  {
   "cell_type": "code",
   "execution_count": 26,
   "id": "3b6049cf",
   "metadata": {},
   "outputs": [
    {
     "name": "stdout",
     "output_type": "stream",
     "text": [
      "Requirement already satisfied: biopython in /opt/anaconda/lib/python3.8/site-packages (1.81)\r\n",
      "Requirement already satisfied: numpy in /opt/anaconda/lib/python3.8/site-packages (from biopython) (1.24.3)\r\n"
     ]
    }
   ],
   "source": [
    "# Install necessary libraries\n",
    "!pip install biopython"
   ]
  },
  {
   "cell_type": "markdown",
   "id": "150882b9",
   "metadata": {},
   "source": [
    "The isoelectric point \n",
    "\n",
    " Ss defined as the pH at which the protein/peptide has a net of charge zero."
   ]
  },
  {
   "cell_type": "code",
   "execution_count": 27,
   "id": "866aff95",
   "metadata": {},
   "outputs": [
    {
     "name": "stdout",
     "output_type": "stream",
     "text": [
      "Acidic protein\n"
     ]
    }
   ],
   "source": [
    "# Classify protein sequences based on their isoelectric point (pI)\n",
    "for sequence in protein_sequences:\n",
    "    protein_analysis = ProteinAnalysis(str(sequence))\n",
    "    pI = protein_analysis.isoelectric_point()\n",
    "    if pI < 7:\n",
    "        print(\"Acidic protein\")\n",
    "    elif pI > 7:\n",
    "        print(\"Basic protein\")\n",
    "    else:\n",
    "        print(\"Neutral protein\")"
   ]
  },
  {
   "cell_type": "code",
   "execution_count": 28,
   "id": "6c96776f",
   "metadata": {},
   "outputs": [],
   "source": [
    "from Bio.SeqUtils.ProtParam import ProteinAnalysis"
   ]
  },
  {
   "cell_type": "markdown",
   "id": "11d6d83f",
   "metadata": {},
   "source": [
    "Protein secondary structures\n",
    "![Protein secondary structures](https://www.creative-proteomics.com/pronalyse/images/1-4-1-Secondary-Structure-Analysis_Fig1.jpg)"
   ]
  },
  {
   "cell_type": "code",
   "execution_count": 29,
   "id": "7152639d",
   "metadata": {},
   "outputs": [
    {
     "data": {
      "text/plain": [
       "(0.32608695652173914, 0.2111801242236025, 0.25465838509316774)"
      ]
     },
     "execution_count": 29,
     "metadata": {},
     "output_type": "execute_result"
    }
   ],
   "source": [
    "analyzed_seq.secondary_structure_fraction() # helix, turn, sheet"
   ]
  },
  {
   "cell_type": "markdown",
   "id": "afbd89b2",
   "metadata": {},
   "source": [
    "## Homework\n",
    "1. Do the excercises for different protein of your choise.\n",
    "2. Send the Jupyter Notebook file to the adress: magdalena.krupa@ipipan.waw.pl"
   ]
  },
  {
   "cell_type": "code",
   "execution_count": null,
   "id": "d49a5f20",
   "metadata": {},
   "outputs": [],
   "source": []
  },
  {
   "cell_type": "code",
   "execution_count": null,
   "id": "04736639",
   "metadata": {},
   "outputs": [],
   "source": []
  },
  {
   "cell_type": "code",
   "execution_count": null,
   "id": "2a418f1b",
   "metadata": {},
   "outputs": [],
   "source": []
  }
 ],
 "metadata": {
  "kernelspec": {
   "display_name": "Python 3 (ipykernel)",
   "language": "python",
   "name": "python3"
  },
  "language_info": {
   "codemirror_mode": {
    "name": "ipython",
    "version": 3
   },
   "file_extension": ".py",
   "mimetype": "text/x-python",
   "name": "python",
   "nbconvert_exporter": "python",
   "pygments_lexer": "ipython3",
   "version": "3.8.5"
  }
 },
 "nbformat": 4,
 "nbformat_minor": 5
}
